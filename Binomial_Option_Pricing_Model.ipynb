{
  "nbformat": 4,
  "nbformat_minor": 0,
  "metadata": {
    "colab": {
      "provenance": [],
      "authorship_tag": "ABX9TyMDlXL2/buuvo6mf56k+iAh",
      "include_colab_link": true
    },
    "kernelspec": {
      "name": "python3",
      "display_name": "Python 3"
    },
    "language_info": {
      "name": "python"
    }
  },
  "cells": [
    {
      "cell_type": "markdown",
      "metadata": {
        "id": "view-in-github",
        "colab_type": "text"
      },
      "source": [
        "<a href=\"https://colab.research.google.com/github/bhardwajshivam/Binomial-Option-Pricing-Model/blob/main/Binomial_Option_Pricing_Model.ipynb\" target=\"_parent\"><img src=\"https://colab.research.google.com/assets/colab-badge.svg\" alt=\"Open In Colab\"/></a>"
      ]
    },
    {
      "cell_type": "code",
      "execution_count": 1,
      "metadata": {
        "id": "7plSaQDuBwXT"
      },
      "outputs": [],
      "source": [
        "import numpy as np\n",
        "from functools import wraps\n",
        "from time import time"
      ]
    },
    {
      "cell_type": "code",
      "source": [
        "def timing(f):\n",
        "  @wraps(f)\n",
        "  def wrap(*args,**kw):\n",
        "    ts = time()\n",
        "    result = f(*args,**kw)\n",
        "    te = time()\n",
        "    print('func:%r args:[%r,%r] took: %2.4f sec'% \\\n",
        "          (f.__name__, args, kw, te-ts))\n",
        "\n",
        "    return result\n",
        "  return wrap"
      ],
      "metadata": {
        "id": "R4mLhzmmCGT0"
      },
      "execution_count": 2,
      "outputs": []
    },
    {
      "cell_type": "code",
      "source": [
        "#Binomial tree\n",
        "\n",
        "# Initialise parameters\n",
        "S0 = 100      # initial stock price\n",
        "K = 100       # strike price\n",
        "T = 1         # time to maturity in years\n",
        "r = 0.06      # annual risk-free rate\n",
        "N = 3         # number of time steps\n",
        "u = 1.1       # up-factor in binomial models\n",
        "d = 1/u       # ensure recombining tree\n",
        "opttype = 'C' # Option Type 'C' or 'P'\n"
      ],
      "metadata": {
        "id": "npjBUjoeCwjk"
      },
      "execution_count": 3,
      "outputs": []
    },
    {
      "cell_type": "code",
      "source": [
        "@timing\n",
        "def binomial_tree(K, T, S0, r, N, u, d, opttype = 'C'):\n",
        "  #pre computing the constants\n",
        "  dt = T/N\n",
        "  q = (np.exp(r*dt) - d) / (u - d)\n",
        "  disc = np.exp(-r*dt)\n",
        "\n",
        "  #initialise asset prices at maturity - Time step N\n",
        "  S = np.zeros(N+1)\n",
        "  S[0] = S0*d**N\n",
        "  for j in range(1, N+1):\n",
        "    S[j] = S[j-1]*u/d\n",
        "\n",
        "  #initialising option values at maturity\n",
        "  C = np.zeros(N+1)\n",
        "  for j in range(0,N+1):\n",
        "    C[j] = max(0, S[j]-K)\n",
        "\n",
        "  #Iterating backwards to get fair price of the option at t=0 / today\n",
        "  for i in np.arange(N, 0, -1):\n",
        "    for j in range(0,i):\n",
        "      C[j] = disc*(q*C[j+1] + (1-q)*C[j])\n",
        "\n",
        "  return C[0]\n",
        "\n",
        "binomial_tree(K,T,S0,r,N,u,d,opttype='C')"
      ],
      "metadata": {
        "colab": {
          "base_uri": "https://localhost:8080/"
        },
        "id": "4wbXQI7GDHJx",
        "outputId": "cdae64e5-d285-496f-9dfa-f20fb66859e1"
      },
      "execution_count": 8,
      "outputs": [
        {
          "output_type": "stream",
          "name": "stdout",
          "text": [
            "func:'binomial_tree' args:[(100, 1, 100, 0.06, 3, 1.1, 0.9090909090909091),{'opttype': 'C'}] took: 0.0015 sec\n"
          ]
        },
        {
          "output_type": "execute_result",
          "data": {
            "text/plain": [
              "10.145735799928817"
            ]
          },
          "metadata": {},
          "execution_count": 8
        }
      ]
    },
    {
      "cell_type": "code",
      "source": [
        "#Optimising\n",
        "\n",
        "@timing\n",
        "def binomial_tree_fast(K,T,S0,r,N,u,d,opttype='C'):\n",
        "    #precompute constants\n",
        "    dt = T/N\n",
        "    q = (np.exp(r*dt) - d) / (u-d)\n",
        "    disc = np.exp(-r*dt)\n",
        "\n",
        "    # initialise asset prices at maturity - Time step N\n",
        "    C = S0 * d ** (np.arange(N,-1,-1)) * u ** (np.arange(0,N+1,1))\n",
        "\n",
        "    # initialise option values at maturity\n",
        "    C = np.maximum( C - K , np.zeros(N+1) )\n",
        "\n",
        "    # step backwards through tree\n",
        "    for i in np.arange(N,0,-1):\n",
        "        C = disc * ( q * C[1:i+1] + (1-q) * C[0:i] )\n",
        "\n",
        "    return C[0]\n",
        "\n",
        "binomial_tree_fast(K,T,S0,r,N,u,d,opttype='C')"
      ],
      "metadata": {
        "colab": {
          "base_uri": "https://localhost:8080/"
        },
        "id": "cqKfxY1aFOaz",
        "outputId": "e7f178a2-f2c6-4524-948f-f3731bca8a63"
      },
      "execution_count": 9,
      "outputs": [
        {
          "output_type": "stream",
          "name": "stdout",
          "text": [
            "func:'binomial_tree_fast' args:[(100, 1, 100, 0.06, 3, 1.1, 0.9090909090909091),{'opttype': 'C'}] took: 0.0011 sec\n"
          ]
        },
        {
          "output_type": "execute_result",
          "data": {
            "text/plain": [
              "10.145735799928826"
            ]
          },
          "metadata": {},
          "execution_count": 9
        }
      ]
    },
    {
      "cell_type": "code",
      "source": [
        "#comparing the two approaches\n",
        "\n",
        "for N in [3,50, 100, 1000, 5000]:\n",
        "    binomial_tree(K,T,S0,r,N,u,d,opttype='C')\n",
        "    binomial_tree_fast(K,T,S0,r,N,u,d,opttype='C')"
      ],
      "metadata": {
        "colab": {
          "base_uri": "https://localhost:8080/"
        },
        "id": "0h99fxjvHmVn",
        "outputId": "f0908a57-dfe2-4310-9188-a73a1f8cd914"
      },
      "execution_count": 10,
      "outputs": [
        {
          "output_type": "stream",
          "name": "stdout",
          "text": [
            "func:'binomial_tree' args:[(100, 1, 100, 0.06, 3, 1.1, 0.9090909090909091),{'opttype': 'C'}] took: 0.0001 sec\n",
            "func:'binomial_tree_fast' args:[(100, 1, 100, 0.06, 3, 1.1, 0.9090909090909091),{'opttype': 'C'}] took: 0.0001 sec\n",
            "func:'binomial_tree' args:[(100, 1, 100, 0.06, 50, 1.1, 0.9090909090909091),{'opttype': 'C'}] took: 0.0017 sec\n",
            "func:'binomial_tree_fast' args:[(100, 1, 100, 0.06, 50, 1.1, 0.9090909090909091),{'opttype': 'C'}] took: 0.0007 sec\n",
            "func:'binomial_tree' args:[(100, 1, 100, 0.06, 100, 1.1, 0.9090909090909091),{'opttype': 'C'}] took: 0.0064 sec\n",
            "func:'binomial_tree_fast' args:[(100, 1, 100, 0.06, 100, 1.1, 0.9090909090909091),{'opttype': 'C'}] took: 0.0015 sec\n",
            "func:'binomial_tree' args:[(100, 1, 100, 0.06, 1000, 1.1, 0.9090909090909091),{'opttype': 'C'}] took: 0.9774 sec\n",
            "func:'binomial_tree_fast' args:[(100, 1, 100, 0.06, 1000, 1.1, 0.9090909090909091),{'opttype': 'C'}] took: 0.0127 sec\n",
            "func:'binomial_tree' args:[(100, 1, 100, 0.06, 5000, 1.1, 0.9090909090909091),{'opttype': 'C'}] took: 8.9398 sec\n",
            "func:'binomial_tree_fast' args:[(100, 1, 100, 0.06, 5000, 1.1, 0.9090909090909091),{'opttype': 'C'}] took: 0.0606 sec\n"
          ]
        }
      ]
    },
    {
      "cell_type": "markdown",
      "source": [
        "# Barrier options with binomial trees\n",
        "\n",
        "Barrier Options with [the](https://) Binomial Asset Pricing Model\n",
        "\n",
        "Implementation of a simple slow and fast barrier tree pricing model in python. We will treat binomial tree as a network with nodes (i,j) with i representing the time steps and j representing the number of ordered price outcome (lowest - or bottom of tree - to highest)."
      ],
      "metadata": {
        "id": "DiVkXfB9BsSE"
      }
    },
    {
      "cell_type": "code",
      "source": [
        "\n",
        "# Initialise parameters\n",
        "S0 = 100      # initial stock price\n",
        "K = 100       # strike price\n",
        "T = 1         # time to maturity in years\n",
        "H = 125       # up-and-out barrier price/value\n",
        "r = 0.06      # annual risk-free rate\n",
        "N = 3         # number of time steps\n",
        "u = 1.1       # up-factor in binomial models\n",
        "d = 1/u       # ensure recombining tree\n",
        "opttype = 'C' # Option Type 'C' or 'P'"
      ],
      "metadata": {
        "id": "bj0KR29QHvqF"
      },
      "execution_count": 11,
      "outputs": []
    },
    {
      "cell_type": "code",
      "source": [
        "@timing\n",
        "def barrier_tree_fast(K,T,S0,H,r,N,u,d,opttype='C'):\n",
        "    #precompute values\n",
        "    dt = T/N\n",
        "    q = (np.exp(r*dt) - d)/(u-d)\n",
        "    disc = np.exp(-r*dt)\n",
        "\n",
        "    # initialise asset prices at maturity\n",
        "    S = S0 * d**(np.arange(N,-1,-1)) * u**(np.arange(0,N+1,1))\n",
        "\n",
        "    # option payoff\n",
        "    if opttype == 'C':\n",
        "        C = np.maximum( S - K, 0 )\n",
        "    else:\n",
        "        C = np.maximum( K - S, 0 )\n",
        "\n",
        "    # check terminal condition payoff\n",
        "    C[S >= H] = 0\n",
        "\n",
        "    # backward recursion through the tree\n",
        "    for i in np.arange(N-1,-1,-1):\n",
        "        S = S0 * d**(np.arange(i,-1,-1)) * u**(np.arange(0,i+1,1))\n",
        "        C[:i+1] = disc * ( q * C[1:i+2] + (1-q) * C[0:i+1] )\n",
        "        C = C[:-1]\n",
        "        C[S >= H] = 0\n",
        "    return C[0]\n",
        "\n",
        "barrier_tree_fast(K,T,S0,H,r,N,u,d,opttype='C')"
      ],
      "metadata": {
        "colab": {
          "base_uri": "https://localhost:8080/"
        },
        "id": "fQgqa7MeBwGi",
        "outputId": "0556739d-de01-4135-85d7-a52fdc3cb763"
      },
      "execution_count": 12,
      "outputs": [
        {
          "output_type": "stream",
          "name": "stdout",
          "text": [
            "func:'barrier_tree_fast' args:[(100, 1, 100, 125, 0.06, 3, 1.1, 0.9090909090909091),{'opttype': 'C'}] took: 0.0028 sec\n"
          ]
        },
        {
          "output_type": "execute_result",
          "data": {
            "text/plain": [
              "4.00026736854323"
            ]
          },
          "metadata": {},
          "execution_count": 12
        }
      ]
    },
    {
      "cell_type": "markdown",
      "source": [
        "# American Put Options with the Binomial Asset Pricing Model\n",
        "\n",
        "\n",
        "Implementation of a simple slow and fast binomial pricing model in python. We will treat binomial tree as a network with nodes (i,j) with i representing the time steps and j representing the number of ordered price outcome (lowest - or bottom of tree - to highest)."
      ],
      "metadata": {
        "id": "a3ITjkprB2qQ"
      }
    },
    {
      "cell_type": "code",
      "source": [
        "@timing\n",
        "def american_fast_tree(K,T,S0,r,N,u,d,opttype='P'):\n",
        "    #precompute values\n",
        "    dt = T/N\n",
        "    q = (np.exp(r*dt) - d)/(u-d)\n",
        "    disc = np.exp(-r*dt)\n",
        "\n",
        "    # initialise stock prices at maturity\n",
        "    S = S0 * d**(np.arange(N,-1,-1)) * u**(np.arange(0,N+1,1))\n",
        "\n",
        "    # option payoff\n",
        "    if opttype == 'P':\n",
        "        C = np.maximum(0, K - S)\n",
        "    else:\n",
        "        C = np.maximum(0, S - K)\n",
        "\n",
        "    # backward recursion through the tree\n",
        "    for i in np.arange(N-1,-1,-1):\n",
        "        S = S0 * d**(np.arange(i,-1,-1)) * u**(np.arange(0,i+1,1))\n",
        "        C[:i+1] = disc * ( q*C[1:i+2] + (1-q)*C[0:i+1] )\n",
        "        C = C[:-1]\n",
        "        if opttype == 'P':\n",
        "            C = np.maximum(C, K - S)\n",
        "        else:\n",
        "            C = np.maximum(C, S - K)\n",
        "\n",
        "    return C[0]\n",
        "\n",
        "american_fast_tree(K,T,S0,r,N,u,d,opttype='P')"
      ],
      "metadata": {
        "colab": {
          "base_uri": "https://localhost:8080/"
        },
        "id": "UAGBHCQpB0FQ",
        "outputId": "5742a05c-8cbf-4e60-aee2-807d9c47e157"
      },
      "execution_count": 13,
      "outputs": [
        {
          "output_type": "stream",
          "name": "stdout",
          "text": [
            "func:'american_fast_tree' args:[(100, 1, 100, 0.06, 3, 1.1, 0.9090909090909091),{'opttype': 'P'}] took: 0.0018 sec\n"
          ]
        },
        {
          "output_type": "execute_result",
          "data": {
            "text/plain": [
              "4.654588754602527"
            ]
          },
          "metadata": {},
          "execution_count": 13
        }
      ]
    },
    {
      "cell_type": "code",
      "source": [],
      "metadata": {
        "id": "6xv5TxdWCKFn"
      },
      "execution_count": null,
      "outputs": []
    }
  ]
}